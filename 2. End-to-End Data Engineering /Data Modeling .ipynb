{
 "cells": [
  {
   "cell_type": "markdown",
   "id": "4bbd1431",
   "metadata": {},
   "source": [
    "# Creating a table using PostgreSQL"
   ]
  },
  {
   "cell_type": "code",
   "execution_count": 1,
   "id": "0bdc24cc",
   "metadata": {},
   "outputs": [
    {
     "name": "stdout",
     "output_type": "stream",
     "text": [
      "Requirement already satisfied: psycopg2-binary in /Users/psameer/opt/anaconda3/lib/python3.9/site-packages (2.9.6)\n",
      "Note: you may need to restart the kernel to use updated packages.\n"
     ]
    }
   ],
   "source": [
    "pip install psycopg2-binary"
   ]
  },
  {
   "cell_type": "code",
   "execution_count": 2,
   "id": "7a112735",
   "metadata": {},
   "outputs": [],
   "source": [
    "# Import the Library \n",
    "import psycopg2"
   ]
  },
  {
   "cell_type": "markdown",
   "id": "ca854439",
   "metadata": {},
   "source": [
    "## Create a connection to Database"
   ]
  },
  {
   "cell_type": "code",
   "execution_count": 3,
   "id": "8e902448",
   "metadata": {},
   "outputs": [],
   "source": [
    "try:\n",
    "    conn = psycopg2.connect(\"host=localhost dbname=postgres user=postgres password=root\")\n",
    "except psycopg2.Error as e:\n",
    "    print(\"Error: Could not connect to postgres database\")\n",
    "    print(e)"
   ]
  },
  {
   "cell_type": "markdown",
   "id": "a5c57010",
   "metadata": {},
   "source": [
    "## Use the connection to get a cursor to execute queries"
   ]
  },
  {
   "cell_type": "code",
   "execution_count": 4,
   "id": "51a423fc",
   "metadata": {},
   "outputs": [],
   "source": [
    "try:\n",
    "    cur = conn.cursor()\n",
    "except psycopg2.Error as e:\n",
    "    print(\"Error: Could not get cursor postgres database\")\n",
    "    print(e)"
   ]
  },
  {
   "cell_type": "markdown",
   "id": "c0b3f7c6",
   "metadata": {},
   "source": [
    "## Set Automatic commit after each action is commited without having to call conn.commit() each time "
   ]
  },
  {
   "cell_type": "code",
   "execution_count": 5,
   "id": "f2c8632e",
   "metadata": {},
   "outputs": [],
   "source": [
    "conn.set_session(autocommit = True)"
   ]
  },
  {
   "cell_type": "markdown",
   "id": "5dfbd72a",
   "metadata": {},
   "source": [
    "## Create a Database to work "
   ]
  },
  {
   "cell_type": "code",
   "execution_count": 6,
   "id": "6ed1f9bf",
   "metadata": {},
   "outputs": [
    {
     "name": "stdout",
     "output_type": "stream",
     "text": [
      "database \"myfirstdb\" already exists\n",
      "\n"
     ]
    }
   ],
   "source": [
    "try:\n",
    "    cur.execute(\"create database myfirstdb\")\n",
    "except psycopg2.Error as e:\n",
    "    print(e)"
   ]
  },
  {
   "cell_type": "code",
   "execution_count": 7,
   "id": "a500986f",
   "metadata": {},
   "outputs": [],
   "source": [
    "# Add a Database name in the connection statement\n",
    "\n",
    "try:\n",
    "    cur = conn.close()\n",
    "except psycopg2.Error as e:\n",
    "    print(e)\n",
    "\n",
    "    \n",
    "try:\n",
    "    conn = psycopg2.connect(\"host=localhost dbname=myfirstdb user=postgres password=root\")\n",
    "except psycopg2.Error as e:\n",
    "    print(\"Error: Could not connect to postgres database\")\n",
    "    print(e)\n",
    "    \n",
    "    \n",
    "try:\n",
    "    cur = conn.cursor()\n",
    "except psycopg2.Error as e:\n",
    "    print(\"Error: Could not get cursor postgres database\")\n",
    "    print(e)\n",
    "\n",
    "conn.set_session(autocommit = True)"
   ]
  },
  {
   "cell_type": "markdown",
   "id": "225636b3",
   "metadata": {},
   "source": [
    "## Create a table that contains columns mentioned below:\n",
    "\n",
    "### student_id\n",
    "### name\n",
    "### age\n",
    "### gender\n",
    "### marks"
   ]
  },
  {
   "cell_type": "code",
   "execution_count": 8,
   "id": "dcbd072b",
   "metadata": {},
   "outputs": [],
   "source": [
    "try:\n",
    "    cur.execute(\"CREATE TABLE IF NOT EXISTS students (student_id int, name varchar, \\\n",
    "    age int, gender varchar, subject varchar, marks int);\")\n",
    "except psycopg2.Error as e:\n",
    "    print(\"Error: Issue creating table\")\n",
    "    print(e)"
   ]
  },
  {
   "cell_type": "code",
   "execution_count": 9,
   "id": "9c6ea73f",
   "metadata": {},
   "outputs": [],
   "source": [
    "try:\n",
    "    cur.execute(\"INSERT INTO students (student_id, name, age, gender, subject, marks) \\\n",
    "                 VALUES (%s, %s, %s, %s, %s, %s)\",\\\n",
    "                 (1, \"Sameer\", 23, \"Male\", \"CNST\", 99))   \n",
    "except psycopg2.Error as e:\n",
    "    print(\"Error: Issue inserting row\")\n",
    "    print(e)\n",
    "                \n",
    "                \n",
    "try:\n",
    "    cur.execute(\"INSERT INTO students (student_id, name, age, gender, subject, marks) \\\n",
    "                 VALUES (%s, %s, %s, %s, %s, %s)\",\n",
    "                 (2, \"Mohan\", 24, \"LGBTQ\", \"CIS\", 98))   \n",
    "except psycopg2.Error as e:\n",
    "    print(\"Error: Issue inserting row\")\n",
    "    print(e)"
   ]
  },
  {
   "cell_type": "code",
   "execution_count": 10,
   "id": "8b6679ce",
   "metadata": {},
   "outputs": [
    {
     "name": "stdout",
     "output_type": "stream",
     "text": [
      "(1, 'Sameer', 23, 'Male', 'CNST', 99)\n",
      "(2, 'Mohan', 24, 'LGBTQ', 'CIS', 98)\n"
     ]
    }
   ],
   "source": [
    "try:\n",
    "    cur.execute(\"SELECT * from students;\")\n",
    "except psycopg2.Error as e:\n",
    "    print(\"Error: select *\")\n",
    "    print (e)\n",
    "    \n",
    "row = cur.fetchone()\n",
    "while row:\n",
    "    print(row)\n",
    "    row = cur.fetchone()"
   ]
  },
  {
   "cell_type": "code",
   "execution_count": 11,
   "id": "dbde9384",
   "metadata": {},
   "outputs": [],
   "source": [
    "cur.close()"
   ]
  }
 ],
 "metadata": {
  "kernelspec": {
   "display_name": "Python 3 (ipykernel)",
   "language": "python",
   "name": "python3"
  },
  "language_info": {
   "codemirror_mode": {
    "name": "ipython",
    "version": 3
   },
   "file_extension": ".py",
   "mimetype": "text/x-python",
   "name": "python",
   "nbconvert_exporter": "python",
   "pygments_lexer": "ipython3",
   "version": "3.9.12"
  }
 },
 "nbformat": 4,
 "nbformat_minor": 5
}
